{
  "cells": [
    {
      "cell_type": "markdown",
      "metadata": {
        "id": "view-in-github",
        "colab_type": "text"
      },
      "source": [
        "<a href=\"https://colab.research.google.com/github/AmbaliyaKishan/cv/blob/main/Sorting_Assignment.ipynb\" target=\"_parent\"><img src=\"https://colab.research.google.com/assets/colab-badge.svg\" alt=\"Open In Colab\"/></a>"
      ]
    },
    {
      "cell_type": "markdown",
      "source": [
        "1. Sort Colors"
      ],
      "metadata": {
        "id": "l0F4GghgAE02"
      }
    },
    {
      "cell_type": "code",
      "source": [
        "class Solution(object):\n",
        "    def sortColors(self, nums):\n",
        "        n=len(nums)\n",
        "        zero,one,two=0,0,n-1\n",
        "        while one<=two:\n",
        "            if nums[one]==1:\n",
        "                one+=1\n",
        "            elif nums[one]==2:\n",
        "                nums[one],nums[two]=nums[two],nums[one]\n",
        "                two-=1\n",
        "\n",
        "            else:\n",
        "                nums[zero],nums[one]=nums[one],nums[zero]\n",
        "                zero+=1\n",
        "                one+=1\n",
        "        return nums\n",
        "\n",
        "nums=[2,0,2,1,1,0]\n",
        "print(Solution().sortColors(nums))"
      ],
      "metadata": {
        "colab": {
          "base_uri": "https://localhost:8080/"
        },
        "id": "os5aFtYDAH_d",
        "outputId": "937d7cbc-95f5-4be0-dbbd-ff6511b85ec8"
      },
      "execution_count": 6,
      "outputs": [
        {
          "output_type": "stream",
          "name": "stdout",
          "text": [
            "[0, 0, 1, 1, 2, 2]\n"
          ]
        }
      ]
    },
    {
      "cell_type": "markdown",
      "source": [
        "2. Sorting the Sentence"
      ],
      "metadata": {
        "id": "VoRJ-bSp_kHe"
      }
    },
    {
      "cell_type": "code",
      "source": [
        "class Solution:\n",
        "    def reconstructSentence(self, s: str) -> str:\n",
        "        words = s.split()\n",
        "        word_positions = {}\n",
        "\n",
        "        for word in words:\n",
        "            position = int(word[-1])\n",
        "            word = word[:-1]\n",
        "            word_positions[position] = word\n",
        "\n",
        "        sorted_words = [word_positions[i] for i in sorted(word_positions)]\n",
        "        reconstructed_sentence = ' '.join(sorted_words)\n",
        "\n",
        "        return reconstructed_sentence\n",
        "\n",
        "s = \"Myself2 Me1 I4 and3\"\n",
        "print(Solution().reconstructSentence(s))"
      ],
      "metadata": {
        "colab": {
          "base_uri": "https://localhost:8080/"
        },
        "id": "ZZYU4oAT_i1g",
        "outputId": "a8f15319-4fd6-4a83-ad4f-2eb16878f940"
      },
      "execution_count": 4,
      "outputs": [
        {
          "output_type": "stream",
          "name": "stdout",
          "text": [
            "Me Myself and I\n"
          ]
        }
      ]
    },
    {
      "cell_type": "markdown",
      "source": [
        "3. Minimum Number Game"
      ],
      "metadata": {
        "id": "7S0IOBCe-lWn"
      }
    },
    {
      "cell_type": "code",
      "source": [
        "from typing import List\n",
        "\n",
        "class Solution:\n",
        "    def numberGame(self, nums: List[int]) -> List[int]:\n",
        "        nums.sort(reverse=True)  # Sort the list in descending order\n",
        "        ans = []\n",
        "        for i in range(1, len(nums), 2):\n",
        "            ans.append(nums[i])\n",
        "            ans.append(nums[i - 1])\n",
        "        return ans\n",
        "\n",
        "print(Solution().numberGame([5, 4, 2, 3]))\n"
      ],
      "metadata": {
        "colab": {
          "base_uri": "https://localhost:8080/"
        },
        "id": "mRA33qew-QM3",
        "outputId": "efd673d2-e9dd-4268-89fc-b06e499b5e4c"
      },
      "execution_count": 2,
      "outputs": [
        {
          "output_type": "stream",
          "name": "stdout",
          "text": [
            "[4, 5, 2, 3]\n"
          ]
        }
      ]
    },
    {
      "cell_type": "markdown",
      "source": [
        "4. Average Salary Exclude Minimum and Maximum Salary"
      ],
      "metadata": {
        "id": "PAFBQkLJBTQV"
      }
    },
    {
      "cell_type": "code",
      "source": [
        "from typing import List\n",
        "\n",
        "class Solution:\n",
        "    def averageSalary(self, salary: List[int]) -> float:\n",
        "        salary.sort()\n",
        "        sum_salaries = sum(salary[1:-1])\n",
        "        average = sum_salaries / (len(salary) - 2)\n",
        "        return average\n",
        "\n",
        "salary = [1000,2000,3000]\n",
        "print(Solution().averageSalary(salary))\n"
      ],
      "metadata": {
        "colab": {
          "base_uri": "https://localhost:8080/"
        },
        "id": "6Yehltz5Bc3s",
        "outputId": "e4974ecc-5aeb-47d0-b310-416b15323aac"
      },
      "execution_count": 7,
      "outputs": [
        {
          "output_type": "stream",
          "name": "stdout",
          "text": [
            "2000.0\n"
          ]
        }
      ]
    },
    {
      "cell_type": "markdown",
      "source": [
        "5. Sort Even And Odd Indices Independently"
      ],
      "metadata": {
        "id": "e-IWWLzcBfMm"
      }
    },
    {
      "cell_type": "code",
      "source": [
        "def rearrange(nums):\n",
        "    odd_nums = nums[1::2]\n",
        "    even_nums = nums[::2]\n",
        "\n",
        "    odd_nums.sort(reverse=True)\n",
        "    even_nums.sort()\n",
        "\n",
        "    result = []\n",
        "    for i in range(len(nums)):\n",
        "        if i % 2 == 0:\n",
        "            result.append(even_nums[i // 2])\n",
        "        else:\n",
        "            result.append(odd_nums[i // 2])\n",
        "\n",
        "    return result\n",
        "\n",
        "nums = [4, 1, 2, 3]\n",
        "print(rearrange(nums))\n",
        "\n",
        "nums = [2, 1]\n",
        "print(rearrange(nums))\n"
      ],
      "metadata": {
        "colab": {
          "base_uri": "https://localhost:8080/"
        },
        "id": "Tf2-g7zbCWlc",
        "outputId": "3b8b8666-ec7e-4947-8d38-9796167146be"
      },
      "execution_count": 8,
      "outputs": [
        {
          "output_type": "stream",
          "name": "stdout",
          "text": [
            "[2, 3, 4, 1]\n",
            "[2, 1]\n"
          ]
        }
      ]
    },
    {
      "cell_type": "markdown",
      "source": [
        "6. The K Weakest Row In A **Matrix**"
      ],
      "metadata": {
        "id": "oQmZJIJdC2n0"
      }
    },
    {
      "cell_type": "code",
      "source": [
        "def kWeakestRows(mat, k):\n",
        "    row_strength = []\n",
        "    for i in range(len(mat)):\n",
        "        row_strength.append((sum(mat[i]), i))\n",
        "\n",
        "    row_strength.sort()\n",
        "\n",
        "    result = []\n",
        "    for i in range(k):\n",
        "        result.append(row_strength[i][1])\n",
        "\n",
        "    return result\n",
        "\n",
        "mat = [[1,1,0,0,0],\n",
        "       [1,1,1,1,0],\n",
        "       [1,0,0,0,0],\n",
        "       [1,1,0,0,0],\n",
        "       [1,1,1,1,1]]\n",
        "k = 3\n",
        "print(kWeakestRows(mat, k))\n",
        "\n",
        "mat = [[1,0,0,0],\n",
        "       [1,1,1,1],\n",
        "       [1,0,0,0],\n",
        "       [1,0,0,0]]\n",
        "k = 2\n",
        "print(kWeakestRows(mat, k))\n"
      ],
      "metadata": {
        "colab": {
          "base_uri": "https://localhost:8080/"
        },
        "id": "EWALdlNHC-S0",
        "outputId": "857029d3-fb67-4d4a-ee14-ea6ac184b277"
      },
      "execution_count": 9,
      "outputs": [
        {
          "output_type": "stream",
          "name": "stdout",
          "text": [
            "[2, 0, 3]\n",
            "[0, 2]\n"
          ]
        }
      ]
    },
    {
      "cell_type": "markdown",
      "source": [
        "7. Squares Of Sorted Array"
      ],
      "metadata": {
        "id": "MUoxFYvJDADE"
      }
    },
    {
      "cell_type": "code",
      "source": [
        "def sortedSquares(nums):\n",
        "    result = []\n",
        "    for num in nums:\n",
        "        result.append(num * num)\n",
        "    result.sort()\n",
        "    return result\n",
        "\n",
        "nums = [-4, -1, 0, 3, 10]\n",
        "print(sortedSquares(nums))\n",
        "\n",
        "nums = [-7, -3, 2, 3, 11]\n",
        "print(sortedSquares(nums))\n"
      ],
      "metadata": {
        "colab": {
          "base_uri": "https://localhost:8080/"
        },
        "id": "K7ymDgdiDXJ0",
        "outputId": "99753484-8a85-4e42-c480-9582c234ad43"
      },
      "execution_count": 10,
      "outputs": [
        {
          "output_type": "stream",
          "name": "stdout",
          "text": [
            "[0, 1, 9, 16, 100]\n",
            "[4, 9, 9, 49, 121]\n"
          ]
        }
      ]
    },
    {
      "cell_type": "markdown",
      "source": [
        "8. Height Checker"
      ],
      "metadata": {
        "id": "raintvuyDnXk"
      }
    },
    {
      "cell_type": "code",
      "source": [
        "def countMismatchedIndices(heights, expected):\n",
        "    count = 0\n",
        "    for i in range(len(heights)):\n",
        "        if heights[i] != expected[i]:\n",
        "            count += 1\n",
        "    return count\n",
        "\n",
        "heights = [1, 1, 4, 2, 1, 3]\n",
        "expected = [1, 1, 1, 2, 3, 4]\n",
        "print(countMismatchedIndices(heights, expected))\n",
        "\n",
        "heights = [5, 1, 2, 3, 4]\n",
        "expected = [1, 2, 3, 4, 5]\n",
        "print(countMismatchedIndices(heights, expected))\n",
        "\n",
        "heights = [1, 2, 3, 4, 5]\n",
        "expected = [1, 2, 3, 4, 5]\n",
        "print(countMismatchedIndices(heights, expected))\n"
      ],
      "metadata": {
        "colab": {
          "base_uri": "https://localhost:8080/"
        },
        "id": "hxJzpwIBD8m0",
        "outputId": "b84d1894-39fd-42c7-d778-6698ec0b77fd"
      },
      "execution_count": 11,
      "outputs": [
        {
          "output_type": "stream",
          "name": "stdout",
          "text": [
            "3\n",
            "5\n",
            "0\n"
          ]
        }
      ]
    },
    {
      "cell_type": "markdown",
      "source": [
        "9. Relative Ranks"
      ],
      "metadata": {
        "id": "WlGcwAQkD-jt"
      }
    },
    {
      "cell_type": "code",
      "source": [
        "def assign_ranks(score):\n",
        "    rank = [\"Gold Medal\", \"Silver Medal\", \"Bronze Medal\"]\n",
        "    answer = []\n",
        "    # Sort scores in descending order\n",
        "    sorted_scores = sorted(score, reverse=True)\n",
        "\n",
        "    # Assign ranks\n",
        "    for i in range(len(sorted_scores)):\n",
        "        if i < 3:\n",
        "            answer.append(rank[i])\n",
        "        else:\n",
        "            answer.append(str(i + 1))\n",
        "\n",
        "    return answer\n",
        "\n",
        "score = [5, 4, 3, 2, 1]\n",
        "print(assign_ranks(score))\n"
      ],
      "metadata": {
        "colab": {
          "base_uri": "https://localhost:8080/"
        },
        "id": "9vjz4zKaFt_a",
        "outputId": "c9b74998-ec83-494d-9221-593d50542da2"
      },
      "execution_count": 13,
      "outputs": [
        {
          "output_type": "stream",
          "name": "stdout",
          "text": [
            "['Gold Medal', 'Silver Medal', 'Bronze Medal', '4', '5']\n"
          ]
        }
      ]
    },
    {
      "cell_type": "markdown",
      "source": [
        "10. Find Target Indices After Sorting Array"
      ],
      "metadata": {
        "id": "ScaOmsPYITY4"
      }
    },
    {
      "cell_type": "code",
      "source": [
        "def target_indices(nums, target):\n",
        "    # Sort nums in non-decreasing order\n",
        "    sorted_nums = sorted(nums)\n",
        "\n",
        "    # Find target indices\n",
        "    target_indices = [i for i, num in enumerate(sorted_nums) if num == target]\n",
        "\n",
        "    return target_indices\n",
        "\n",
        "nums = [1, 2, 5, 2, 3]\n",
        "target = 5\n",
        "print(target_indices(nums, target))\n"
      ],
      "metadata": {
        "colab": {
          "base_uri": "https://localhost:8080/"
        },
        "id": "S3-7PApLIyzB",
        "outputId": "ad6c3fd9-bf68-460b-ca7a-c63c5111f72e"
      },
      "execution_count": 14,
      "outputs": [
        {
          "output_type": "stream",
          "name": "stdout",
          "text": [
            "[4]\n"
          ]
        }
      ]
    },
    {
      "cell_type": "markdown",
      "source": [
        "11. Special Array With X Element Greater Than Or Equal X"
      ],
      "metadata": {
        "id": "H1FbRl8RI51w"
      }
    },
    {
      "cell_type": "code",
      "source": [
        "def special_number(nums):\n",
        "    sorted_nums = sorted(nums)\n",
        "\n",
        "    for i, num in enumerate(sorted_nums):\n",
        "        if num >= len(sorted_nums) - i:\n",
        "            return len(sorted_nums) - i\n",
        "\n",
        "    return -1\n",
        "\n",
        "nums = [3, 5]\n",
        "print(special_number(nums))\n",
        "\n",
        "nums = [0, 0]\n",
        "print(special_number(nums))\n",
        "\n",
        "nums = [0, 4, 3, 0, 4]\n",
        "print(special_number(nums))\n"
      ],
      "metadata": {
        "colab": {
          "base_uri": "https://localhost:8080/"
        },
        "id": "rZi-0E7TJOEZ",
        "outputId": "299cb28a-f53a-49e7-eaf8-8fd5d8d5510f"
      },
      "execution_count": 15,
      "outputs": [
        {
          "output_type": "stream",
          "name": "stdout",
          "text": [
            "2\n",
            "-1\n",
            "3\n"
          ]
        }
      ]
    },
    {
      "cell_type": "markdown",
      "source": [
        "12. Buy Two Chocolates"
      ],
      "metadata": {
        "id": "7iFVjua6JaSA"
      }
    },
    {
      "cell_type": "code",
      "source": [
        "def leftover_money(prices, money):\n",
        "    min_price1 = float('inf')\n",
        "    min_price2 = float('inf')\n",
        "\n",
        "    for price in prices:\n",
        "        if price < min_price1:\n",
        "            min_price2 = min_price1\n",
        "            min_price1 = price\n",
        "        elif price < min_price2:\n",
        "            min_price2 = price\n",
        "\n",
        "    leftover = money - (min_price1 + min_price2)\n",
        "\n",
        "    if leftover < 0:\n",
        "        return money\n",
        "    else:\n",
        "        return leftover\n",
        "\n",
        "prices = [1, 2, 2]\n",
        "money = 3\n",
        "print(leftover_money(prices, money))\n",
        "\n",
        "prices = [3, 2, 3]\n",
        "money = 3\n",
        "print(leftover_money(prices, money))\n"
      ],
      "metadata": {
        "colab": {
          "base_uri": "https://localhost:8080/"
        },
        "id": "t931CjmjKL6Y",
        "outputId": "b7b7a954-2630-4dcb-a2be-722871315da2"
      },
      "execution_count": 16,
      "outputs": [
        {
          "output_type": "stream",
          "name": "stdout",
          "text": [
            "0\n",
            "3\n"
          ]
        }
      ]
    },
    {
      "cell_type": "markdown",
      "source": [
        "13. How Many Numbers Are Smaller Than The Current Number"
      ],
      "metadata": {
        "id": "Gfo3aGTeKNrA"
      }
    },
    {
      "cell_type": "code",
      "source": [
        "def smaller_numbers(nums):\n",
        "    result = []\n",
        "\n",
        "    for i in range(len(nums)):\n",
        "        count = 0\n",
        "        for j in range(len(nums)):\n",
        "            if i != j and nums[j] < nums[i]:\n",
        "                count += 1\n",
        "        result.append(count)\n",
        "\n",
        "    return result\n",
        "\n",
        "nums = [8, 1, 2, 2, 3]\n",
        "print(smaller_numbers(nums))\n",
        "\n",
        "nums = [6, 5, 4, 8]\n",
        "print(smaller_numbers(nums))\n",
        "\n",
        "nums = [7, 7, 7, 7]\n",
        "print(smaller_numbers(nums))\n"
      ],
      "metadata": {
        "colab": {
          "base_uri": "https://localhost:8080/"
        },
        "id": "MjpxSV8BKeog",
        "outputId": "1d84b8bc-ef43-4df7-f5eb-06f983294f8d"
      },
      "execution_count": 17,
      "outputs": [
        {
          "output_type": "stream",
          "name": "stdout",
          "text": [
            "[4, 0, 1, 1, 3]\n",
            "[2, 1, 0, 3]\n",
            "[0, 0, 0, 0]\n"
          ]
        }
      ]
    },
    {
      "cell_type": "markdown",
      "source": [
        "14.Sort Array By Increasing Frequency"
      ],
      "metadata": {
        "id": "FaapAGcoKgG_"
      }
    },
    {
      "cell_type": "code",
      "source": [
        "from collections import Counter\n",
        "\n",
        "def sort_array(nums):\n",
        "    counter = Counter(nums)\n",
        "    sorted_nums = sorted(nums, key=lambda x: (counter[x], -x))\n",
        "    return sorted_nums\n",
        "\n",
        "nums = [1, 1, 2, 2, 2, 3]\n",
        "print(sort_array(nums))\n",
        "\n",
        "nums = [2, 3, 1, 3, 2]\n",
        "print(sort_array(nums))\n",
        "\n",
        "nums = [-1, 1, -6, 4, 5, -6, 1, 4, 1]\n",
        "print(sort_array(nums))\n"
      ],
      "metadata": {
        "colab": {
          "base_uri": "https://localhost:8080/"
        },
        "id": "eJ1IAL1AK1H_",
        "outputId": "ed8d26a5-4ebf-4027-900a-0c214f05bd46"
      },
      "execution_count": 18,
      "outputs": [
        {
          "output_type": "stream",
          "name": "stdout",
          "text": [
            "[3, 1, 1, 2, 2, 2]\n",
            "[1, 3, 3, 2, 2]\n",
            "[5, -1, 4, 4, -6, -6, 1, 1, 1]\n"
          ]
        }
      ]
    },
    {
      "cell_type": "markdown",
      "source": [
        "15. Set Mismatch"
      ],
      "metadata": {
        "id": "P8TJE83tK2vn"
      }
    },
    {
      "cell_type": "code",
      "source": [
        "from collections import Counter\n",
        "\n",
        "def find_error_numbers(nums):\n",
        "    counter = Counter(nums)\n",
        "    duplicate = missing = None\n",
        "\n",
        "    for i in range(1, len(nums) + 1):\n",
        "        if i not in counter:\n",
        "            missing = i\n",
        "        elif counter[i] == 2:\n",
        "            duplicate = i\n",
        "\n",
        "    return [duplicate, missing]\n",
        "\n",
        "nums = [1, 2, 2, 4]\n",
        "print(find_error_numbers(nums))\n",
        "\n",
        "nums = [1, 1]\n",
        "print(find_error_numbers(nums))\n"
      ],
      "metadata": {
        "colab": {
          "base_uri": "https://localhost:8080/"
        },
        "id": "EMDzVVqvK7W3",
        "outputId": "71a312c1-a124-4f81-c1b7-18e241060ca4"
      },
      "execution_count": 19,
      "outputs": [
        {
          "output_type": "stream",
          "name": "stdout",
          "text": [
            "[2, 3]\n",
            "[1, 2]\n"
          ]
        }
      ]
    },
    {
      "cell_type": "markdown",
      "source": [
        "16. Find All Numbers Disappered In Array"
      ],
      "metadata": {
        "id": "n4o5ae99LD0w"
      }
    },
    {
      "cell_type": "code",
      "source": [
        "\n",
        "def findDisappearedNumbers(nums):\n",
        "    n = len(nums)\n",
        "    all_numbers = set(range(1, n+1))\n",
        "    nums_set = set(nums)\n",
        "    missing_numbers = list(all_numbers - nums_set)\n",
        "    return missing_numbers\n",
        "\n",
        "nums = [4,3,2,7,8,2,3,1]\n",
        "result = findDisappearedNumbers(nums)\n",
        "print(result)\n",
        "\n",
        "nums = [1,1]\n",
        "result = findDisappearedNumbers(nums)\n",
        "print(result)\n"
      ],
      "metadata": {
        "colab": {
          "base_uri": "https://localhost:8080/"
        },
        "id": "oA9y7TpILKx3",
        "outputId": "6c39cefe-e335-41ef-997d-4fa44675fa05"
      },
      "execution_count": 20,
      "outputs": [
        {
          "output_type": "stream",
          "name": "stdout",
          "text": [
            "[5, 6]\n",
            "[2]\n"
          ]
        }
      ]
    },
    {
      "cell_type": "markdown",
      "source": [
        "17. Find The Duplicate Numbers"
      ],
      "metadata": {
        "id": "pwRsGaKILuv3"
      }
    },
    {
      "cell_type": "code",
      "source": [
        "def findDuplicate(nums):\n",
        "    slow = nums[0]\n",
        "    fast = nums[0]\n",
        "\n",
        "    while True:\n",
        "        slow = nums[slow]\n",
        "        fast = nums[nums[fast]]\n",
        "        if slow == fast:\n",
        "            break\n",
        "\n",
        "    slow = nums[0]\n",
        "    while slow != fast:\n",
        "        slow = nums[slow]\n",
        "        fast = nums[fast]\n",
        "\n",
        "    return slow\n",
        "\n",
        "nums = [1,3,4,2,2]\n",
        "result = findDuplicate(nums)\n",
        "print(result)\n",
        "\n",
        "nums = [3,1,3,4,2]\n",
        "result = findDuplicate(nums)\n",
        "print(result)\n",
        "\n",
        "nums = [3,3,3,3,3]\n",
        "result = findDuplicate(nums)\n",
        "print(result)\n"
      ],
      "metadata": {
        "colab": {
          "base_uri": "https://localhost:8080/"
        },
        "id": "_umdirM8L0N_",
        "outputId": "1a4e7c1a-612d-43a6-eea0-335eb884d78e"
      },
      "execution_count": 21,
      "outputs": [
        {
          "output_type": "stream",
          "name": "stdout",
          "text": [
            "2\n",
            "3\n",
            "3\n"
          ]
        }
      ]
    },
    {
      "cell_type": "markdown",
      "source": [
        "18.Find All Duplicates In An Array"
      ],
      "metadata": {
        "id": "Wd0vYErzMP73"
      }
    },
    {
      "cell_type": "code",
      "source": [
        "def findDuplicates(nums):\n",
        "    duplicates = []\n",
        "    for num in nums:\n",
        "        if nums[abs(num) - 1] < 0:\n",
        "            duplicates.append(abs(num))\n",
        "        else:\n",
        "            nums[abs(num) - 1] *= -1\n",
        "    return duplicates\n",
        "\n",
        "nums = [4, 3, 2, 7, 8, 2, 3, 1]\n",
        "result = findDuplicates(nums)\n",
        "print(result)\n",
        "\n",
        "nums = [1, 1, 2]\n",
        "result = findDuplicates(nums)\n",
        "print(result)\n",
        "\n",
        "nums = [1]\n",
        "result = findDuplicates(nums)\n",
        "print(result)\n"
      ],
      "metadata": {
        "colab": {
          "base_uri": "https://localhost:8080/"
        },
        "id": "Jdq0xc0IMWLn",
        "outputId": "955d953f-bcdd-4d70-97e2-e4001a4daa76"
      },
      "execution_count": 22,
      "outputs": [
        {
          "output_type": "stream",
          "name": "stdout",
          "text": [
            "[2, 3]\n",
            "[1]\n",
            "[]\n"
          ]
        }
      ]
    },
    {
      "cell_type": "markdown",
      "source": [
        "19. Missing Number"
      ],
      "metadata": {
        "id": "lB8bsVNzNKE-"
      }
    },
    {
      "cell_type": "code",
      "source": [
        "def missingNumber(nums):\n",
        "\tn = len(nums)\n",
        "\texpected_sum = n * (n + 1) // 2\n",
        "\tactual_sum = sum(nums)\n",
        "\treturn expected_sum - actual_sum\n",
        "\n",
        "nums = [3, 0, 1]\n",
        "missing_num = missingNumber(nums)\n",
        "print(missing_num)\n",
        "\n",
        "\n",
        "nums = [0,1]\n",
        "missing_num = missingNumber(nums)\n",
        "print(missing_num)\n",
        "\n",
        "nums = [9, 6, 4, 2, 3, 5, 7, 0, 1]\n",
        "missing_num = missingNumber(nums)\n",
        "print(missing_num)\n"
      ],
      "metadata": {
        "colab": {
          "base_uri": "https://localhost:8080/"
        },
        "id": "AORfoteqNNxR",
        "outputId": "7813b6d4-3267-4e57-ad93-4d0d97d45653"
      },
      "execution_count": 23,
      "outputs": [
        {
          "output_type": "stream",
          "name": "stdout",
          "text": [
            "2\n",
            "2\n",
            "8\n"
          ]
        }
      ]
    }
  ],
  "metadata": {
    "colab": {
      "toc_visible": true,
      "provenance": [],
      "include_colab_link": true
    },
    "kernelspec": {
      "display_name": "Python 3",
      "name": "python3"
    }
  },
  "nbformat": 4,
  "nbformat_minor": 0
}